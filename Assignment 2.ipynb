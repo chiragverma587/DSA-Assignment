{
 "cells": [
  {
   "cell_type": "code",
   "execution_count": null,
   "id": "d57a0be2",
   "metadata": {},
   "outputs": [],
   "source": [
    "# Question 1\n",
    "# Given an integer array nums of 2n integers, group these integers into n pairs (a1, b1), (a2, b2),..., (an, bn) such that the sum of min(ai, bi) for all i is maximized. Return the maximized sum."
   ]
  },
  {
   "cell_type": "code",
   "execution_count": 1,
   "id": "cc3e6463",
   "metadata": {},
   "outputs": [
    {
     "name": "stdout",
     "output_type": "stream",
     "text": [
      "4\n"
     ]
    }
   ],
   "source": [
    "def arrayPairSum(nums):\n",
    "    nums.sort()  # Sort the array in ascending order\n",
    "    max_sum = 0\n",
    "\n",
    "    # Group adjacent elements and sum the minimum element of each pair\n",
    "    for i in range(0, len(nums), 2):\n",
    "        max_sum += nums[i]\n",
    "\n",
    "    return max_sum\n",
    "\n",
    "# Example usage:\n",
    "nums = [1, 4, 3, 2]\n",
    "result = arrayPairSum(nums)\n",
    "print(result)  # Output: 4 (Pairs: (1, 2) and (3, 4), minimum elements: 1 and 3, sum: 4)\n"
   ]
  },
  {
   "cell_type": "code",
   "execution_count": null,
   "id": "f3119719",
   "metadata": {},
   "outputs": [],
   "source": [
    "# Question 2\n",
    "# Alice has n candies, where the ith candy is of type candyType[i]. Alice noticed that she started to gain weight, so she visited a doctor. \n",
    "\n",
    "# The doctor advised Alice to only eat n / 2 of the candies she has (n is always even). Alice likes her candies very much, and she wants to eat the maximum number of different types of candies while still following the doctor's advice. \n",
    "\n",
    "# Given the integer array candyType of length n, return the maximum number of different types of candies she can eat if she only eats n / 2 of them."
   ]
  },
  {
   "cell_type": "code",
   "execution_count": 2,
   "id": "b2989e2e",
   "metadata": {},
   "outputs": [
    {
     "name": "stdout",
     "output_type": "stream",
     "text": [
      "3\n",
      "2\n"
     ]
    }
   ],
   "source": [
    "def distributeCandies(candyType):\n",
    "    unique_types = len(set(candyType))\n",
    "    max_types = len(candyType) // 2\n",
    "\n",
    "    return min(unique_types, max_types)\n",
    "\n",
    "# Example usage:\n",
    "candyType = [1, 1, 2, 2, 3, 3]\n",
    "result = distributeCandies(candyType)\n",
    "print(result)  # Output: 3 (Alice can eat at most 3 different types of candies)\n",
    "\n",
    "candyType = [1, 1, 2, 3]\n",
    "result = distributeCandies(candyType)\n",
    "print(result)  # Output: 2 (Alice can eat at most 2 different types of candies)\n"
   ]
  },
  {
   "cell_type": "code",
   "execution_count": null,
   "id": "5c090b5a",
   "metadata": {},
   "outputs": [],
   "source": [
    "# Question 3\n",
    "# We define a harmonious array as an array where the difference between its maximum value\n",
    "# and its minimum value is exactly 1.\n",
    "\n",
    "# Given an integer array nums, return the length of its longest harmonious subsequence\n",
    "# among all its possible subsequences.\n",
    "\n",
    "# A subsequence of an array is a sequence that can be derived from the array by deleting some or no elements without changing the order of the remaining elements.\n"
   ]
  },
  {
   "cell_type": "code",
   "execution_count": 3,
   "id": "5087e79c",
   "metadata": {},
   "outputs": [
    {
     "name": "stdout",
     "output_type": "stream",
     "text": [
      "5\n"
     ]
    }
   ],
   "source": [
    "def findLHS(nums):\n",
    "    num_counts = {}\n",
    "    max_length = 0\n",
    "\n",
    "    # Count the frequencies of each element\n",
    "    for num in nums:\n",
    "        num_counts[num] = num_counts.get(num, 0) + 1\n",
    "\n",
    "    # Iterate through the elements and check for harmonious subsequence\n",
    "    for num in num_counts:\n",
    "        if num + 1 in num_counts:\n",
    "            cur_length = num_counts[num] + num_counts[num + 1]\n",
    "            max_length = max(max_length, cur_length)\n",
    "\n",
    "    return max_length\n",
    "\n",
    "# Example usage:\n",
    "nums = [1, 3, 2, 2, 5, 2, 3, 7]\n",
    "result = findLHS(nums)\n",
    "print(result)  # Output: 5 (The longest harmonious subsequence is [3, 2, 2, 2, 3])\n"
   ]
  },
  {
   "cell_type": "code",
   "execution_count": null,
   "id": "ed4d41a9",
   "metadata": {},
   "outputs": [],
   "source": [
    "# Question 4\n",
    "# You have a long flowerbed in which some of the plots are planted, and some are not.\n",
    "# However, flowers cannot be planted in adjacent plots.\n",
    "# Given an integer array flowerbed containing 0's and 1's, where 0 means empty and 1 means not empty, and an integer n, return true if n new flowers can be planted in the flowerbed without violating the no-adjacent-flowers rule and false otherwise."
   ]
  },
  {
   "cell_type": "code",
   "execution_count": 4,
   "id": "6598ae36",
   "metadata": {},
   "outputs": [
    {
     "name": "stdout",
     "output_type": "stream",
     "text": [
      "True\n",
      "False\n"
     ]
    }
   ],
   "source": [
    "def canPlaceFlowers(flowerbed, n):\n",
    "    count = 0\n",
    "    i = 0\n",
    "    while i < len(flowerbed):\n",
    "        if (\n",
    "            flowerbed[i] == 0 and\n",
    "            (i == 0 or flowerbed[i - 1] == 0) and\n",
    "            (i == len(flowerbed) - 1 or flowerbed[i + 1] == 0)\n",
    "        ):\n",
    "            flowerbed[i] = 1\n",
    "            count += 1\n",
    "            i += 2\n",
    "        else:\n",
    "            i += 1\n",
    "\n",
    "    return count >= n\n",
    "\n",
    "# Example usage:\n",
    "flowerbed = [1, 0, 0, 0, 1]\n",
    "n = 1\n",
    "result = canPlaceFlowers(flowerbed, n)\n",
    "print(result)  # Output: True (One new flower can be planted in the flowerbed)\n",
    "\n",
    "flowerbed = [1, 0, 0, 0, 1]\n",
    "n = 2\n",
    "result = canPlaceFlowers(flowerbed, n)\n",
    "print(result)  # Output: False (Two new flowers cannot be planted without violating the adjacent rule)\n"
   ]
  },
  {
   "cell_type": "code",
   "execution_count": null,
   "id": "53f9ff55",
   "metadata": {},
   "outputs": [],
   "source": [
    "# Question 5\n",
    "# Given an integer array nums, find three numbers whose product is maximum and return the maximum product."
   ]
  },
  {
   "cell_type": "code",
   "execution_count": 5,
   "id": "c72d4fc7",
   "metadata": {},
   "outputs": [
    {
     "name": "stdout",
     "output_type": "stream",
     "text": [
      "48\n",
      "-6\n"
     ]
    }
   ],
   "source": [
    "def maximumProduct(nums):\n",
    "    nums.sort()  # Sort the array in ascending order\n",
    "\n",
    "    # Case 1: The three largest numbers are all positive\n",
    "    max_product1 = nums[-1] * nums[-2] * nums[-3]\n",
    "\n",
    "    # Case 2: The three largest numbers include one or more negative numbers\n",
    "    max_product2 = nums[-1] * nums[0] * nums[1]\n",
    "\n",
    "    return max(max_product1, max_product2)\n",
    "\n",
    "# Example usage:\n",
    "nums = [-4, -3, -2, -1, 0, 1, 2, 3, 4]\n",
    "result = maximumProduct(nums)\n",
    "print(result)  # Output: 48 (Product of numbers -4, -3, 4)\n",
    "\n",
    "nums = [-1, -2, -3, -4]\n",
    "result = maximumProduct(nums)\n",
    "print(result)  # Output: -6 (Product of numbers -1, -2, -3)\n"
   ]
  },
  {
   "cell_type": "code",
   "execution_count": null,
   "id": "910a277b",
   "metadata": {},
   "outputs": [],
   "source": [
    "# Question 6\n",
    "# Given an array of integers nums which is sorted in ascending order, and an integer target,\n",
    "# write a function to search target in nums. If target exists, then return its index. Otherwise,\n",
    "# return -1.\n",
    "\n",
    "# You must write an algorithm with O(log n) runtime complexity."
   ]
  },
  {
   "cell_type": "code",
   "execution_count": 6,
   "id": "3ab2019f",
   "metadata": {},
   "outputs": [
    {
     "name": "stdout",
     "output_type": "stream",
     "text": [
      "4\n",
      "-1\n"
     ]
    }
   ],
   "source": [
    "def search(nums, target):\n",
    "    left, right = 0, len(nums) - 1\n",
    "\n",
    "    while left <= right:\n",
    "        mid = left + (right - left) // 2\n",
    "\n",
    "        if nums[mid] == target:\n",
    "            return mid\n",
    "        elif nums[mid] < target:\n",
    "            left = mid + 1\n",
    "        else:\n",
    "            right = mid - 1\n",
    "\n",
    "    return -1\n",
    "\n",
    "# Example usage:\n",
    "nums = [-1, 0, 3, 5, 9, 12]\n",
    "target = 9\n",
    "result = search(nums, target)\n",
    "print(result)  # Output: 4 (Index of target 9)\n",
    "\n",
    "target = 2\n",
    "result = search(nums, target)\n",
    "print(result)  # Output: -1 (Target 2 is not found)\n"
   ]
  },
  {
   "cell_type": "code",
   "execution_count": null,
   "id": "9b78f453",
   "metadata": {},
   "outputs": [],
   "source": [
    "# Question 7\n",
    "# An array is monotonic if it is either monotone increasing or monotone decreasing.\n",
    "\n",
    "# An array nums is monotone increasing if for all i <= j, nums[i] <= nums[j]. An array nums is\n",
    "# monotone decreasing if for all i <= j, nums[i] >= nums[j].\n",
    "\n",
    "# Given an integer array nums, return true if the given array is monotonic, or false otherwise."
   ]
  },
  {
   "cell_type": "code",
   "execution_count": 7,
   "id": "98bc9a12",
   "metadata": {},
   "outputs": [
    {
     "name": "stdout",
     "output_type": "stream",
     "text": [
      "True\n",
      "True\n",
      "False\n"
     ]
    }
   ],
   "source": [
    "def isMonotonic(nums):\n",
    "    increasing = decreasing = True\n",
    "\n",
    "    for i in range(1, len(nums)):\n",
    "        if nums[i] < nums[i - 1]:\n",
    "            increasing = False\n",
    "        if nums[i] > nums[i - 1]:\n",
    "            decreasing = False\n",
    "\n",
    "    return increasing or decreasing\n",
    "\n",
    "# Example usage:\n",
    "nums = [1, 2, 3, 4, 5]\n",
    "result = isMonotonic(nums)\n",
    "print(result)  # Output: True (The array is monotonic increasing)\n",
    "\n",
    "nums = [7, 6, 5, 4, 3]\n",
    "result = isMonotonic(nums)\n",
    "print(result)  # Output: True (The array is monotonic decreasing)\n",
    "\n",
    "nums = [1, 3, 2, 4, 5]\n",
    "result = isMonotonic(nums)\n",
    "print(result)  # Output: False (The array is neither monotonic increasing nor monotonic decreasing)\n"
   ]
  },
  {
   "cell_type": "code",
   "execution_count": null,
   "id": "7cc68c58",
   "metadata": {},
   "outputs": [],
   "source": [
    "# Question 8\n",
    "# You are given an integer array nums and an integer k.\n",
    "\n",
    "# In one operation, you can choose any index i where 0 <= i < nums.length and change nums[i] to nums[i] + x where x is an integer from the range [-k, k]. You can apply this operation at most once for each index i.\n",
    "\n",
    "# The score of nums is the difference between the maximum and minimum elements in nums.\n",
    "\n",
    "# Return the minimum score of nums after applying the mentioned operation at most once for each index in it."
   ]
  },
  {
   "cell_type": "code",
   "execution_count": 9,
   "id": "e13b9911",
   "metadata": {},
   "outputs": [
    {
     "name": "stdout",
     "output_type": "stream",
     "text": [
      "0\n",
      "1\n",
      "0\n"
     ]
    }
   ],
   "source": [
    "def minimumScore(nums, k):\n",
    "    min_val = float('inf')\n",
    "    max_val = float('-inf')\n",
    "\n",
    "    for num in nums:\n",
    "        min_val = min(min_val, num)\n",
    "        max_val = max(max_val, num)\n",
    "\n",
    "    return max(0, max_val - min_val - 2 * k)\n",
    "\n",
    "# Example usage:\n",
    "nums = [1, 3, 6]\n",
    "k = 3\n",
    "result = minimumScore(nums, k)\n",
    "print(result)  # Output: 0 (The score is already minimum)\n",
    "\n",
    "nums = [1, 3, 10]\n",
    "k = 4\n",
    "result = minimumScore(nums, k)\n",
    "print(result)  # Output: 2 (Change 10 to 7: [1, 3, 7], score: 7 - 1 = 6)\n",
    "\n",
    "nums = [4, 6, 9]\n",
    "k = 3\n",
    "result = minimumScore(nums, k)\n",
    "print(result)  # Output: 2 (Change 4 to 7: [7, 6, 9], score: 9 - 6 = 3)\n"
   ]
  },
  {
   "cell_type": "code",
   "execution_count": null,
   "id": "7257a45b",
   "metadata": {},
   "outputs": [],
   "source": []
  }
 ],
 "metadata": {
  "kernelspec": {
   "display_name": "Python 3 (ipykernel)",
   "language": "python",
   "name": "python3"
  },
  "language_info": {
   "codemirror_mode": {
    "name": "ipython",
    "version": 3
   },
   "file_extension": ".py",
   "mimetype": "text/x-python",
   "name": "python",
   "nbconvert_exporter": "python",
   "pygments_lexer": "ipython3",
   "version": "3.9.12"
  }
 },
 "nbformat": 4,
 "nbformat_minor": 5
}
