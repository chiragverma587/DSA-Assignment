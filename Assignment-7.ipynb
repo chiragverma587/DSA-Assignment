{
 "cells": [
  {
   "cell_type": "code",
   "execution_count": null,
   "id": "5d84a78b",
   "metadata": {},
   "outputs": [],
   "source": [
    "# Given two strings s and t, *determine if they are isomorphic*.\n",
    "\n",
    "# Two strings s and t are isomorphic if the characters in s can be replaced to get t.\n",
    "\n",
    "# All occurrences of a character must be replaced with another character while preserving the order of characters. No two characters may map to the same character, but a character may map to itself.\n",
    "\n",
    "# **Example 1:**\n",
    "\n",
    "# **Input:** s = \"egg\", t = \"add\"\n",
    "\n",
    "# **Output:** true"
   ]
  },
  {
   "cell_type": "code",
   "execution_count": 1,
   "id": "101d04f8",
   "metadata": {},
   "outputs": [
    {
     "name": "stdout",
     "output_type": "stream",
     "text": [
      "True\n"
     ]
    }
   ],
   "source": [
    "def is_isomorphic(s, t):\n",
    "    if len(s) != len(t):\n",
    "        return False\n",
    "\n",
    "    s_to_t = {}\n",
    "    t_to_s = {}\n",
    "\n",
    "    for c_s, c_t in zip(s, t):\n",
    "        if (c_s in s_to_t and s_to_t[c_s] != c_t) or (c_t in t_to_s and t_to_s[c_t] != c_s):\n",
    "            return False\n",
    "        s_to_t[c_s] = c_t\n",
    "        t_to_s[c_t] = c_s\n",
    "\n",
    "    return True\n",
    "s = \"egg\"\n",
    "t = \"add\"\n",
    "result = is_isomorphic(s, t)\n",
    "print(result)\n",
    "\n"
   ]
  },
  {
   "cell_type": "code",
   "execution_count": null,
   "id": "532dc01b",
   "metadata": {},
   "outputs": [],
   "source": [
    "# Given a string num which represents an integer, return true *if* num *is a **strobogrammatic number***.\n",
    "\n",
    "# A **strobogrammatic number** is a number that looks the same when rotated 180 degrees (looked at upside down).\n",
    "\n",
    "# **Example 1:**\n",
    "\n",
    "# **Input:** num = \"69\"\n",
    "\n",
    "# **Output:**\n",
    "\n",
    "# true"
   ]
  },
  {
   "cell_type": "code",
   "execution_count": 2,
   "id": "4f8e526d",
   "metadata": {},
   "outputs": [],
   "source": [
    "def is_strobogrammatic(num):\n",
    "    strobogrammatic_pairs = [('0', '0'), ('1', '1'), ('8', '8'), ('6', '9'), ('9', '6')]\n",
    "    left, right = 0, len(num) - 1\n",
    "\n",
    "    while left <= right:\n",
    "        c1, c2 = num[left], num[right]\n",
    "\n",
    "        if (c1, c2) not in strobogrammatic_pairs:\n",
    "            return False\n",
    "\n",
    "        left += 1\n",
    "        right -= 1\n",
    "\n",
    "    return True\n",
    "num = \"69\"\n",
    "result = is_strobogrammatic(num)\n",
    "print(result)\n",
    "\n"
   ]
  },
  {
   "cell_type": "code",
   "execution_count": null,
   "id": "ddf8edee",
   "metadata": {},
   "outputs": [],
   "source": [
    "# Given two non-negative integers, num1 and num2 represented as string, return *the sum of* num1 *and* num2 *as a string*.\n",
    "\n",
    "# You must solve the problem without using any built-in library for handling large integers (such as BigInteger). You must also not convert the inputs to integers directly.\n",
    "\n",
    "# **Example 1:**\n",
    "\n",
    "# **Input:** num1 = \"11\", num2 = \"123\"\n",
    "\n",
    "# **Output:**\n",
    "\n",
    "# \"134\""
   ]
  },
  {
   "cell_type": "code",
   "execution_count": 2,
   "id": "ad6da7cf",
   "metadata": {},
   "outputs": [
    {
     "name": "stdout",
     "output_type": "stream",
     "text": [
      "134\n"
     ]
    }
   ],
   "source": [
    "def add_strings(num1, num2):\n",
    "    p1 = len(num1) - 1\n",
    "    p2 = len(num2) - 1\n",
    "    carry = 0\n",
    "    result = \"\"\n",
    "\n",
    "    while p1 >= 0 or p2 >= 0:\n",
    "        digit1 = int(num1[p1]) if p1 >= 0 else 0\n",
    "        digit2 = int(num2[p2]) if p2 >= 0 else 0\n",
    "        current_sum = digit1 + digit2 + carry\n",
    "        current_digit = current_sum % 10\n",
    "        carry = current_sum // 10\n",
    "        result = str(current_digit) + result\n",
    "        p1 -= 1\n",
    "        p2 -= 1\n",
    "\n",
    "    if carry > 0:\n",
    "        result = str(carry) + result\n",
    "\n",
    "    return result\n",
    "\n",
    "num1 = \"11\"\n",
    "num2 = \"123\"\n",
    "result = add_strings(num1, num2)\n",
    "print(result)\n"
   ]
  },
  {
   "cell_type": "code",
   "execution_count": null,
   "id": "51a577c6",
   "metadata": {},
   "outputs": [],
   "source": [
    "# Given a string s, reverse the order of characters in each word within a sentence while still preserving whitespace and initial word order.\n",
    "\n",
    "# **Example 1:**\n",
    "\n",
    "# **Input:** s = \"Let's take LeetCode contest\"\n",
    "\n",
    "# **Output:** \"s'teL ekat edoCteeL tsetnoc\""
   ]
  },
  {
   "cell_type": "code",
   "execution_count": 3,
   "id": "3d5bafc2",
   "metadata": {},
   "outputs": [
    {
     "name": "stdout",
     "output_type": "stream",
     "text": [
      "s'teL ekat edoCteeL tsetnoc\n"
     ]
    }
   ],
   "source": [
    "def reverse_words(s):\n",
    "    words = s.split()\n",
    "    reversed_words = []\n",
    "\n",
    "    for word in words:\n",
    "        reversed_words.append(word[::-1])\n",
    "\n",
    "    reversed_sentence = ' '.join(reversed_words)\n",
    "    return reversed_sentence\n",
    "s = \"Let's take LeetCode contest\"\n",
    "result = reverse_words(s)\n",
    "print(result)\n",
    "\n"
   ]
  },
  {
   "cell_type": "code",
   "execution_count": null,
   "id": "2eebe290",
   "metadata": {},
   "outputs": [],
   "source": [
    "# Given a string s and an integer k, reverse the first k characters for every 2k characters counting from the start of the string.\n",
    "\n",
    "# If there are fewer than k characters left, reverse all of them. If there are less than 2k but greater than or equal to k characters, then reverse the first k characters and leave the other as original.\n",
    "\n",
    "# **Example 1:**\n",
    "\n",
    "# **Input:** s = \"abcdefg\", k = 2\n",
    "\n",
    "# **Output:**\n",
    "\n",
    "# \"bacdfeg\""
   ]
  },
  {
   "cell_type": "code",
   "execution_count": 4,
   "id": "a1b7a213",
   "metadata": {},
   "outputs": [
    {
     "name": "stdout",
     "output_type": "stream",
     "text": [
      "bacdfeg\n"
     ]
    }
   ],
   "source": [
    "def reverse_string(s, k):\n",
    "    result = \"\"\n",
    "\n",
    "    for i in range(0, len(s), 2*k):\n",
    "        result += s[i:i+k][::-1] + s[i+k:i+2*k]\n",
    "\n",
    "    return result\n",
    "s = \"abcdefg\"\n",
    "k = 2\n",
    "result = reverse_string(s, k)\n",
    "print(result)\n",
    "\n"
   ]
  },
  {
   "cell_type": "code",
   "execution_count": null,
   "id": "526e651b",
   "metadata": {},
   "outputs": [],
   "source": [
    "# Given two strings s and goal, return true *if and only if* s *can become* goal *after some number of **shifts** on* s.\n",
    "\n",
    "# A **shift** on s consists of moving the leftmost character of s to the rightmost position.\n",
    "\n",
    "# - For example, if s = \"abcde\", then it will be \"bcdea\" after one shift.\n",
    "\n",
    "# **Example 1:**\n",
    "\n",
    "# **Input:** s = \"abcde\", goal = \"cdeab\"\n",
    "\n",
    "# **Output:**\n",
    "\n",
    "# true"
   ]
  },
  {
   "cell_type": "code",
   "execution_count": 6,
   "id": "8a484dfa",
   "metadata": {},
   "outputs": [
    {
     "name": "stdout",
     "output_type": "stream",
     "text": [
      "True\n"
     ]
    }
   ],
   "source": [
    "def can_shift(s, goal):\n",
    "    if len(s) != len(goal):\n",
    "        return False\n",
    "\n",
    "    s_concat = s + s\n",
    "\n",
    "    if goal in s_concat:\n",
    "        return True\n",
    "\n",
    "    return False\n",
    "s = \"abcde\"\n",
    "goal = \"cdeab\"\n",
    "result = can_shift(s, goal)\n",
    "print(result)\n",
    "\n"
   ]
  },
  {
   "cell_type": "code",
   "execution_count": null,
   "id": "1e329878",
   "metadata": {},
   "outputs": [],
   "source": [
    "# Given two strings s and t, return true *if they are equal when both are typed into empty text editors*. '#' means a backspace character.\n",
    "\n",
    "# Note that after backspacing an empty text, the text will continue empty.\n",
    "\n",
    "# **Example 1:**\n",
    "\n",
    "# **Input:** s = \"ab#c\", t = \"ad#c\"\n",
    "\n",
    "# **Output:** true"
   ]
  },
  {
   "cell_type": "code",
   "execution_count": 8,
   "id": "d0e26d55",
   "metadata": {},
   "outputs": [
    {
     "name": "stdout",
     "output_type": "stream",
     "text": [
      "True\n"
     ]
    }
   ],
   "source": [
    "def backspace_compare(s, t):\n",
    "    stack_s = []\n",
    "    stack_t = []\n",
    "\n",
    "    for c in s:\n",
    "        if c != '#':\n",
    "            stack_s.append(c)\n",
    "        elif stack_s:\n",
    "            stack_s.pop()\n",
    "\n",
    "    for c in t:\n",
    "        if c != '#':\n",
    "            stack_t.append(c)\n",
    "        elif stack_t:\n",
    "            stack_t.pop()\n",
    "\n",
    "    return stack_s == stack_t\n",
    "s = \"ab#c\"\n",
    "t = \"ad#c\"\n",
    "result = backspace_compare(s, t)\n",
    "print(result)\n",
    "\n"
   ]
  },
  {
   "cell_type": "code",
   "execution_count": null,
   "id": "e7e3a2b5",
   "metadata": {},
   "outputs": [],
   "source": [
    "# You are given an array coordinates, coordinates[i] = [x, y], where [x, y] represents the coordinate of a point. Check if these points make a straight line in the XY plane."
   ]
  },
  {
   "cell_type": "code",
   "execution_count": 10,
   "id": "108ab3dc",
   "metadata": {},
   "outputs": [
    {
     "name": "stdout",
     "output_type": "stream",
     "text": [
      "True\n"
     ]
    }
   ],
   "source": [
    "def check_straight_line(coordinates):\n",
    "    x1, y1 = coordinates[0]\n",
    "    x2, y2 = coordinates[1]\n",
    "    dx = x2 - x1\n",
    "    dy = y2 - y1\n",
    "\n",
    "    for i in range(2, len(coordinates)):\n",
    "        x, y = coordinates[i]\n",
    "        qx = x - x1\n",
    "        qy = y - y1\n",
    "\n",
    "        if dx * qy != dy * qx:\n",
    "            return False\n",
    "\n",
    "    return True\n",
    "\n",
    "coordinates = [[1, 2], [2, 3], [3, 4], [4, 5], [5, 6], [6, 7]]\n",
    "result = check_straight_line(coordinates)\n",
    "print(result)\n",
    "\n"
   ]
  },
  {
   "cell_type": "code",
   "execution_count": null,
   "id": "b52b3c65",
   "metadata": {},
   "outputs": [],
   "source": []
  }
 ],
 "metadata": {
  "kernelspec": {
   "display_name": "Python 3 (ipykernel)",
   "language": "python",
   "name": "python3"
  },
  "language_info": {
   "codemirror_mode": {
    "name": "ipython",
    "version": 3
   },
   "file_extension": ".py",
   "mimetype": "text/x-python",
   "name": "python",
   "nbconvert_exporter": "python",
   "pygments_lexer": "ipython3",
   "version": "3.9.12"
  }
 },
 "nbformat": 4,
 "nbformat_minor": 5
}
