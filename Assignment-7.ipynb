{
 "cells": [
  {
   "cell_type": "code",
   "execution_count": 1,
   "id": "101d04f8",
   "metadata": {},
   "outputs": [],
   "source": [
    "1.def isIsomorphic(s, t):\n",
    "    if len(s) != len(t):\n",
    "        return False\n",
    "\n",
    "    s_to_t = {}\n",
    "    t_to_s = {}\n",
    "\n",
    "    for c_s, c_t in zip(s, t):\n",
    "        if (c_s in s_to_t and s_to_t[c_s] != c_t) or (c_t in t_to_s and t_to_s[c_t] != c_s):\n",
    "            return False\n",
    "        s_to_t[c_s] = c_t\n",
    "        t_to_s[c_t] = c_s\n",
    "\n",
    "    return True\n"
   ]
  },
  {
   "cell_type": "code",
   "execution_count": 2,
   "id": "4f8e526d",
   "metadata": {},
   "outputs": [],
   "source": [
    "2.def isStrobogrammatic(num):\n",
    "    strobogrammatic_pairs = [('0', '0'), ('1', '1'), ('8', '8'), ('6', '9'), ('9', '6')]\n",
    "    left, right = 0, len(num) - 1\n",
    "\n",
    "    while left <= right:\n",
    "        c1, c2 = num[left], num[right]\n",
    "\n",
    "        if (c1, c2) not in strobogrammatic_pairs:\n",
    "            return False\n",
    "\n",
    "        left += 1\n",
    "        right -= 1\n",
    "\n",
    "    return True\n"
   ]
  },
  {
   "cell_type": "code",
   "execution_count": 3,
   "id": "ad6da7cf",
   "metadata": {},
   "outputs": [],
   "source": [
    "3.def isStrobogrammatic(num):\n",
    "    strobogrammatic_pairs = [('0', '0'), ('1', '1'), ('8', '8'), ('6', '9'), ('9', '6')]\n",
    "    left, right = 0, len(num) - 1\n",
    "\n",
    "    while left <= right:\n",
    "        c1, c2 = num[left], num[right]\n",
    "\n",
    "        if (c1, c2) not in strobogrammatic_pairs:\n",
    "            return False\n",
    "\n",
    "        left += 1\n",
    "        right -= 1\n",
    "\n",
    "    return True\n"
   ]
  },
  {
   "cell_type": "code",
   "execution_count": 4,
   "id": "3d5bafc2",
   "metadata": {},
   "outputs": [],
   "source": [
    "4.def reverseWords(s):\n",
    "    words = s.split()\n",
    "    reversed_words = []\n",
    "\n",
    "    for word in words:\n",
    "        reversed_words.append(word[::-1])\n",
    "\n",
    "    reversed_sentence = ' '.join(reversed_words)\n",
    "    return reversed_sentence\n"
   ]
  },
  {
   "cell_type": "code",
   "execution_count": 5,
   "id": "a1b7a213",
   "metadata": {},
   "outputs": [],
   "source": [
    "5.def reverseStr(s, k):\n",
    "    result = \"\"\n",
    "\n",
    "    for i in range(0, len(s), 2*k):\n",
    "        result += s[i:i+k][::-1] + s[i+k:i+2*k]\n",
    "\n",
    "    return result\n"
   ]
  },
  {
   "cell_type": "code",
   "execution_count": 6,
   "id": "8a484dfa",
   "metadata": {},
   "outputs": [],
   "source": [
    "6.def rotateString(s, goal):\n",
    "    if len(s) != len(goal):\n",
    "        return False\n",
    "\n",
    "    s_concat = s + s\n",
    "\n",
    "    if goal in s_concat:\n",
    "        return True\n",
    "\n",
    "    return False\n"
   ]
  },
  {
   "cell_type": "code",
   "execution_count": 7,
   "id": "d0e26d55",
   "metadata": {},
   "outputs": [],
   "source": [
    "7.def backspaceCompare(s, t):\n",
    "    stack_s = []\n",
    "    stack_t = []\n",
    "\n",
    "    for c in s:\n",
    "        if c != '#':\n",
    "            stack_s.append(c)\n",
    "        elif stack_s:\n",
    "            stack_s.pop()\n",
    "\n",
    "    for c in t:\n",
    "        if c != '#':\n",
    "            stack_t.append(c)\n",
    "        elif stack_t:\n",
    "            stack_t.pop()\n",
    "\n",
    "    return stack_s == stack_t\n"
   ]
  },
  {
   "cell_type": "code",
   "execution_count": 8,
   "id": "108ab3dc",
   "metadata": {},
   "outputs": [],
   "source": [
    "8.def backspaceCompare(s, t):\n",
    "    stack_s = []\n",
    "    stack_t = []\n",
    "\n",
    "    for c in s:\n",
    "        if c != '#':\n",
    "            stack_s.append(c)\n",
    "        elif stack_s:\n",
    "            stack_s.pop()\n",
    "\n",
    "    for c in t:\n",
    "        if c != '#':\n",
    "            stack_t.append(c)\n",
    "        elif stack_t:\n",
    "            stack_t.pop()\n",
    "\n",
    "    return stack_s == stack_t\n"
   ]
  },
  {
   "cell_type": "code",
   "execution_count": null,
   "id": "b52b3c65",
   "metadata": {},
   "outputs": [],
   "source": []
  }
 ],
 "metadata": {
  "kernelspec": {
   "display_name": "Python 3 (ipykernel)",
   "language": "python",
   "name": "python3"
  },
  "language_info": {
   "codemirror_mode": {
    "name": "ipython",
    "version": 3
   },
   "file_extension": ".py",
   "mimetype": "text/x-python",
   "name": "python",
   "nbconvert_exporter": "python",
   "pygments_lexer": "ipython3",
   "version": "3.11.3"
  }
 },
 "nbformat": 4,
 "nbformat_minor": 5
}
