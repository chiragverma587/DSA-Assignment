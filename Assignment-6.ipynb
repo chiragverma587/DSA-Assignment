{
 "cells": [
  {
   "cell_type": "code",
   "execution_count": null,
   "id": "c544d7ff",
   "metadata": {},
   "outputs": [],
   "source": [
    "# A permutation perm of n + 1 integers of all the integers in the range [0, n] can be represented as a string s of length n where:\n",
    "\n",
    "# - s[i] == 'I' if perm[i] < perm[i + 1], and\n",
    "# - s[i] == 'D' if perm[i] > perm[i + 1].\n",
    "\n",
    "# Given a string s, reconstruct the permutation perm and return it. If there are multiple valid permutations perm, return **any of them**.\n",
    "\n",
    "# **Example 1:**\n",
    "\n",
    "# **Input:** s = \"IDID\"\n",
    "\n",
    "# **Output:**\n",
    "\n",
    "# [0,4,1,3,2]"
   ]
  },
  {
   "cell_type": "code",
   "execution_count": 2,
   "id": "241e84a8",
   "metadata": {},
   "outputs": [
    {
     "name": "stdout",
     "output_type": "stream",
     "text": [
      "[0, 4, 1, 3, 2]\n"
     ]
    }
   ],
   "source": [
    "def reconstruct_permutation(s):\n",
    "    n = len(s)\n",
    "    perm = []\n",
    "    low, high = 0, n\n",
    "\n",
    "    for c in s:\n",
    "        if c == 'I':\n",
    "            perm.append(low)\n",
    "            low += 1\n",
    "        elif c == 'D':\n",
    "            perm.append(high)\n",
    "            high -= 1\n",
    "\n",
    "    perm.append(low)\n",
    "    return perm\n",
    "s = \"IDID\"\n",
    "result = reconstruct_permutation(s)\n",
    "print(result)\n",
    "\n"
   ]
  },
  {
   "cell_type": "code",
   "execution_count": null,
   "id": "a30bed6e",
   "metadata": {},
   "outputs": [],
   "source": [
    "# You are given an m x n integer matrix matrix with the following two properties:\n",
    "\n",
    "# - Each row is sorted in non-decreasing order.\n",
    "# - The first integer of each row is greater than the last integer of the previous row.\n",
    "\n",
    "# Given an integer target, return true *if* target *is in* matrix *or* false *otherwise*.\n",
    "\n",
    "# You must write a solution in O(log(m * n)) time complexity."
   ]
  },
  {
   "cell_type": "code",
   "execution_count": 3,
   "id": "63f4cfb3",
   "metadata": {},
   "outputs": [
    {
     "name": "stdout",
     "output_type": "stream",
     "text": [
      "True\n"
     ]
    }
   ],
   "source": [
    "def search_matrix(matrix, target):\n",
    "    m, n = len(matrix), len(matrix[0])\n",
    "    left, right = 0, m * n - 1\n",
    "\n",
    "    while left <= right:\n",
    "        mid = (left + right) // 2\n",
    "        row = mid // n\n",
    "        col = mid % n\n",
    "\n",
    "        if matrix[row][col] == target:\n",
    "            return True\n",
    "        elif matrix[row][col] > target:\n",
    "            right = mid - 1\n",
    "        else:\n",
    "            left = mid + 1\n",
    "\n",
    "    return False\n",
    "matrix = [\n",
    "    [1, 3, 5, 7],\n",
    "    [10, 11, 16, 20],\n",
    "    [23, 30, 34, 60]\n",
    "]\n",
    "target = 3\n",
    "result = search_matrix(matrix, target)\n",
    "print(result)\n"
   ]
  },
  {
   "cell_type": "code",
   "execution_count": null,
   "id": "80301d39",
   "metadata": {},
   "outputs": [],
   "source": [
    "# Given an array of integers arr, return *true if and only if it is a valid mountain array*.\n",
    "\n",
    "# Recall that arr is a mountain array if and only if:\n",
    "\n",
    "# - arr.length >= 3\n",
    "# - There exists some i with 0 < i < arr.length - 1 such that:\n",
    "#     - arr[0] < arr[1] < ... < arr[i - 1] < arr[i]\n",
    "#     - arr[i] > arr[i + 1] > ... > arr[arr.length - 1]"
   ]
  },
  {
   "cell_type": "code",
   "execution_count": 4,
   "id": "5ff2efd7",
   "metadata": {},
   "outputs": [
    {
     "name": "stdout",
     "output_type": "stream",
     "text": [
      "False\n"
     ]
    }
   ],
   "source": [
    "def valid_mountain_array(arr):\n",
    "    if len(arr) < 3:\n",
    "        return False\n",
    "\n",
    "    i = 0\n",
    "\n",
    "    while i < len(arr) - 1 and arr[i] < arr[i + 1]:\n",
    "        i += 1\n",
    "\n",
    "    if i == 0 or i == len(arr) - 1:\n",
    "        return False\n",
    "\n",
    "    while i < len(arr) - 1 and arr[i] > arr[i + 1]:\n",
    "        i += 1\n",
    "\n",
    "    return i == len(arr) - 1\n",
    "arr = [2, 1]\n",
    "result = valid_mountain_array(arr)\n",
    "print(result)\n"
   ]
  },
  {
   "cell_type": "code",
   "execution_count": null,
   "id": "918e4222",
   "metadata": {},
   "outputs": [],
   "source": [
    "# Given a binary array nums, return *the maximum length of a contiguous subarray with an equal number of* 0 *and* 1.\n",
    "\n",
    "# **Example 1:**\n",
    "\n",
    "# **Input:** nums = [0,1]\n",
    "\n",
    "# **Output:** 2"
   ]
  },
  {
   "cell_type": "code",
   "execution_count": 5,
   "id": "9cee4549",
   "metadata": {},
   "outputs": [
    {
     "name": "stdout",
     "output_type": "stream",
     "text": [
      "2\n"
     ]
    }
   ],
   "source": [
    "def find_max_length(nums):\n",
    "    max_length = 0\n",
    "    count = 0\n",
    "    count_map = {0: -1}\n",
    "\n",
    "    for i, num in enumerate(nums):\n",
    "        count += 1 if num == 1 else -1\n",
    "\n",
    "        if count == 0:\n",
    "            max_length = i + 1\n",
    "        elif count not in count_map:\n",
    "            count_map[count] = i\n",
    "        else:\n",
    "            length = i - count_map[count]\n",
    "            max_length = max(max_length, length)\n",
    "\n",
    "    return max_length\n",
    "nums = [0, 1]\n",
    "result = find_max_length(nums)\n",
    "print(result)\n",
    "\n"
   ]
  },
  {
   "cell_type": "code",
   "execution_count": null,
   "id": "4ff06f9d",
   "metadata": {},
   "outputs": [],
   "source": [
    "# The **product sum** of two equal-length arrays a and b is equal to the sum of a[i] * b[i] for all 0 <= i < a.length (**0-indexed**).\n",
    "\n",
    "# - For example, if a = [1,2,3,4] and b = [5,2,3,1], the **product sum** would be 1*5 + 2*2 + 3*3 + 4*1 = 22.\n",
    "\n",
    "# Given two arrays nums1 and nums2 of length n, return *the **minimum product sum** if you are allowed to **rearrange** the **order** of the elements in* nums1.\n",
    "\n",
    "# **Example 1:**\n",
    "\n",
    "# **Input:** nums1 = [5,3,4,2], nums2 = [4,2,2,5]\n",
    "\n",
    "# **Output:** 40"
   ]
  },
  {
   "cell_type": "code",
   "execution_count": 6,
   "id": "b480926c",
   "metadata": {},
   "outputs": [
    {
     "name": "stdout",
     "output_type": "stream",
     "text": [
      "40\n"
     ]
    }
   ],
   "source": [
    "def min_product_sum(nums1, nums2):\n",
    "    nums1.sort()\n",
    "    nums2.sort(reverse=True)\n",
    "\n",
    "    min_product_sum = 0\n",
    "\n",
    "    for i in range(len(nums1)):\n",
    "        min_product_sum += nums1[i] * nums2[i]\n",
    "\n",
    "    return min_product_sum\n",
    "nums1 = [5, 3, 4, 2]\n",
    "nums2 = [4, 2, 2, 5]\n",
    "result = min_product_sum(nums1, nums2)\n",
    "print(result)\n",
    "\n"
   ]
  },
  {
   "cell_type": "code",
   "execution_count": null,
   "id": "91f4276e",
   "metadata": {},
   "outputs": [],
   "source": [
    "# An integer array original is transformed into a **doubled** array changed by appending **twice the value** of every element in original, and then randomly **shuffling** the resulting array.\n",
    "\n",
    "# Given an array changed, return original *if* changed *is a **doubled** array. If* changed *is not a **doubled** array, return an empty array. The elements in* original *may be returned in **any** order*.\n",
    "\n",
    "# **Example 1:**\n",
    "\n",
    "# **Input:** changed = [1,3,4,2,6,8]\n",
    "\n",
    "# **Output:** [1,3,4]"
   ]
  },
  {
   "cell_type": "code",
   "execution_count": 9,
   "id": "4681469b",
   "metadata": {},
   "outputs": [
    {
     "name": "stdout",
     "output_type": "stream",
     "text": [
      "[0.5, 1.5, 2.0, 1.0, 3.0, 4.0]\n"
     ]
    }
   ],
   "source": [
    "def find_original_array(changed):\n",
    "    count_map = {}\n",
    "\n",
    "    for num in changed:\n",
    "        if num / 2 in count_map:\n",
    "            count_map[num / 2] -= 1\n",
    "            if count_map[num / 2] == 0:\n",
    "                del count_map[num / 2]\n",
    "            elif count_map[num / 2] < 0:\n",
    "                return []\n",
    "\n",
    "        else:\n",
    "            count_map[num / 2] = 1\n",
    "\n",
    "    return list(count_map.keys())\n",
    "changed = [1, 3, 4, 2, 6, 8]\n",
    "result = find_original_array(changed)\n",
    "print(result)\n"
   ]
  },
  {
   "cell_type": "code",
   "execution_count": null,
   "id": "e347db19",
   "metadata": {},
   "outputs": [],
   "source": [
    "# Given a positive integer n, generate an n x n matrix filled with elements from 1 to n2 in spiral order.\n",
    "# **Input:** n = 3\n",
    "\n",
    "# **Output:** [[1,2,3],[8,9,4],[7,6,5]]"
   ]
  },
  {
   "cell_type": "code",
   "execution_count": 10,
   "id": "20ed7e40",
   "metadata": {},
   "outputs": [
    {
     "name": "stdout",
     "output_type": "stream",
     "text": [
      "[[1, 2, 3], [8, 9, 4], [7, 6, 5]]\n"
     ]
    }
   ],
   "source": [
    "def generate_spiral_matrix(n):\n",
    "    top, bottom, left, right = 0, n - 1, 0, n - 1\n",
    "    num = 1\n",
    "    result = [[0] * n for _ in range(n)]\n",
    "\n",
    "    while num <= n * n:\n",
    "        for i in range(left, right + 1):\n",
    "            result[top][i] = num\n",
    "            num += 1\n",
    "        top += 1\n",
    "\n",
    "        for i in range(top, bottom + 1):\n",
    "            result[i][right] = num\n",
    "            num += 1\n",
    "        right -= 1\n",
    "\n",
    "        if top > bottom or left > right:\n",
    "            break\n",
    "\n",
    "        for i in range(right, left - 1, -1):\n",
    "            result[bottom][i] = num\n",
    "            num += 1\n",
    "        bottom -= 1\n",
    "\n",
    "        for i in range(bottom, top - 1, -1):\n",
    "            result[i][left] = num\n",
    "            num += 1\n",
    "        left += 1\n",
    "\n",
    "    return result\n",
    "n = 3\n",
    "result = generate_spiral_matrix(n)\n",
    "print(result)\n",
    "\n"
   ]
  },
  {
   "cell_type": "code",
   "execution_count": null,
   "id": "1d6c6e0d",
   "metadata": {},
   "outputs": [],
   "source": [
    "# Given two sparse matrices mat1 of size m x k and mat2 of size k x n, return the result of mat1 x mat2. You may assume that multiplication is always possible."
   ]
  },
  {
   "cell_type": "code",
   "execution_count": 11,
   "id": "628aab14",
   "metadata": {},
   "outputs": [
    {
     "name": "stdout",
     "output_type": "stream",
     "text": [
      "[[7, 0, 0], [-7, 0, 3]]\n"
     ]
    }
   ],
   "source": [
    "def multiply_matrices(mat1, mat2):\n",
    "    m, k = len(mat1), len(mat1[0])\n",
    "    k, n = len(mat2), len(mat2[0])\n",
    "\n",
    "    result = [[0] * n for _ in range(m)]\n",
    "\n",
    "    for i in range(m):\n",
    "        for j in range(n):\n",
    "            for x in range(k):\n",
    "                result[i][j] += mat1[i][x] * mat2[x][j]\n",
    "\n",
    "    return result\n",
    "mat1 = [[1, 0, 0], [-1, 0, 3]]\n",
    "mat2 = [[7, 0, 0], [0, 0, 0], [0, 0, 1]]\n",
    "result = multiply_matrices(mat1, mat2)\n",
    "print(result)\n"
   ]
  },
  {
   "cell_type": "code",
   "execution_count": null,
   "id": "ee9d9139",
   "metadata": {},
   "outputs": [],
   "source": []
  }
 ],
 "metadata": {
  "kernelspec": {
   "display_name": "Python 3 (ipykernel)",
   "language": "python",
   "name": "python3"
  },
  "language_info": {
   "codemirror_mode": {
    "name": "ipython",
    "version": 3
   },
   "file_extension": ".py",
   "mimetype": "text/x-python",
   "name": "python",
   "nbconvert_exporter": "python",
   "pygments_lexer": "ipython3",
   "version": "3.9.12"
  }
 },
 "nbformat": 4,
 "nbformat_minor": 5
}
