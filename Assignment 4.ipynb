{
 "cells": [
  {
   "cell_type": "code",
   "execution_count": 1,
   "id": "c67171d1",
   "metadata": {},
   "outputs": [
    {
     "name": "stdout",
     "output_type": "stream",
     "text": [
      "[2, 5]\n",
      "[]\n"
     ]
    }
   ],
   "source": [
    "def arraysIntersection(arr1, arr2, arr3):\n",
    "    p1 = p2 = p3 = 0\n",
    "    result = []\n",
    "\n",
    "    while p1 < len(arr1) and p2 < len(arr2) and p3 < len(arr3):\n",
    "        if arr1[p1] == arr2[p2] == arr3[p3]:\n",
    "            result.append(arr1[p1])\n",
    "            p1 += 1\n",
    "            p2 += 1\n",
    "            p3 += 1\n",
    "        elif arr1[p1] < arr2[p2]:\n",
    "            p1 += 1\n",
    "        elif arr2[p2] < arr3[p3]:\n",
    "            p2 += 1\n",
    "        else:\n",
    "            p3 += 1\n",
    "\n",
    "    return result\n",
    "\n",
    "# Example usage:\n",
    "arr1 = [1, 2, 3, 4, 5]\n",
    "arr2 = [2, 4, 5, 6]\n",
    "arr3 = [2, 3, 5]\n",
    "result = arraysIntersection(arr1, arr2, arr3)\n",
    "print(result)  # Output: [2, 5] (Integers that appear in all three arrays)\n",
    "\n",
    "arr1 = [1, 2, 3, 4]\n",
    "arr2 = [2, 4, 6]\n",
    "arr3 = [3, 5, 7]\n",
    "result = arraysIntersection(arr1, arr2, arr3)\n",
    "print(result)  # Output: [] (No common integers in all three arrays)\n"
   ]
  },
  {
   "cell_type": "code",
   "execution_count": 2,
   "id": "2409463b",
   "metadata": {},
   "outputs": [
    {
     "name": "stdout",
     "output_type": "stream",
     "text": [
      "[[8, 7], []]\n",
      "[[1, 2, 3], [4, 5, 6]]\n"
     ]
    }
   ],
   "source": [
    "def findDisappearedNumbers(nums1, nums2):\n",
    "    set1 = set(nums1)\n",
    "    set2 = set(nums2)\n",
    "\n",
    "    distinct_nums1 = set1 - set2\n",
    "    distinct_nums2 = set2 - set1\n",
    "\n",
    "    return [list(distinct_nums1), list(distinct_nums2)]\n",
    "\n",
    "# Example usage:\n",
    "nums1 = [4, 3, 2, 7, 8, 2, 3, 1]\n",
    "nums2 = [4, 2, 3, 1]\n",
    "result = findDisappearedNumbers(nums1, nums2)\n",
    "print(result)  # Output: [[8, 7], []] (Distinct numbers in nums1: [8, 7], distinct numbers in nums2: [])\n",
    "\n",
    "nums1 = [1, 2, 3]\n",
    "nums2 = [4, 5, 6]\n",
    "result = findDisappearedNumbers(nums1, nums2)\n",
    "print(result)  # Output: [[1, 2, 3], [4, 5, 6]] (Distinct numbers in nums1: [1, 2, 3], distinct numbers in nums2: [4, 5, 6])\n"
   ]
  },
  {
   "cell_type": "code",
   "execution_count": 3,
   "id": "09ac1699",
   "metadata": {},
   "outputs": [
    {
     "name": "stdout",
     "output_type": "stream",
     "text": [
      "[[1, 4], [2, 5], [3, 6]]\n",
      "[[1, 4, 7], [2, 5, 8], [3, 6, 9]]\n"
     ]
    }
   ],
   "source": [
    "def transpose(matrix):\n",
    "    rows = len(matrix)\n",
    "    cols = len(matrix[0])\n",
    "\n",
    "    # Create a new matrix with swapped row and column sizes\n",
    "    transposed = [[0] * rows for _ in range(cols)]\n",
    "\n",
    "    # Fill the transposed matrix with elements from the original matrix\n",
    "    for i in range(rows):\n",
    "        for j in range(cols):\n",
    "            transposed[j][i] = matrix[i][j]\n",
    "\n",
    "    return transposed\n",
    "\n",
    "# Example usage:\n",
    "matrix = [[1, 2, 3], [4, 5, 6]]\n",
    "result = transpose(matrix)\n",
    "print(result)  # Output: [[1, 4], [2, 5], [3, 6]]\n",
    "\n",
    "matrix = [[1, 2, 3], [4, 5, 6], [7, 8, 9]]\n",
    "result = transpose(matrix)\n",
    "print(result)  # Output: [[1, 4, 7], [2, 5, 8], [3, 6, 9]]\n"
   ]
  },
  {
   "cell_type": "code",
   "execution_count": 4,
   "id": "31c3195c",
   "metadata": {},
   "outputs": [
    {
     "name": "stdout",
     "output_type": "stream",
     "text": [
      "4\n",
      "9\n"
     ]
    }
   ],
   "source": [
    "def arrayPairSum(nums):\n",
    "    nums.sort()\n",
    "    max_sum = 0\n",
    "\n",
    "    for i in range(0, len(nums), 2):\n",
    "        max_sum += nums[i]\n",
    "\n",
    "    return max_sum\n",
    "\n",
    "# Example usage:\n",
    "nums = [1, 4, 3, 2]\n",
    "result = arrayPairSum(nums)\n",
    "print(result)  # Output: 4 (Pairs: (1, 2), (3, 4), min values: 1, 3, sum: 4)\n",
    "\n",
    "nums = [6, 2, 6, 5, 1, 2]\n",
    "result = arrayPairSum(nums)\n",
    "print(result)  # Output: 9 (Pairs: (1, 2), (2, 5), (6, 6), min values: 1, 2, 6, sum: 9)\n"
   ]
  },
  {
   "cell_type": "code",
   "execution_count": 6,
   "id": "c8fbc878",
   "metadata": {},
   "outputs": [
    {
     "name": "stdout",
     "output_type": "stream",
     "text": [
      "2\n",
      "3\n"
     ]
    }
   ],
   "source": [
    "def arrangeCoins(n):\n",
    "    left, right = 0, n\n",
    "\n",
    "    while left <= right:\n",
    "        mid = left + (right - left) // 2\n",
    "        coins_needed = (mid * (mid + 1)) // 2\n",
    "\n",
    "        if coins_needed == n:\n",
    "            return mid\n",
    "        elif coins_needed < n:\n",
    "            left = mid + 1\n",
    "        else:\n",
    "            right = mid - 1\n",
    "\n",
    "    return right\n",
    "\n",
    "# Example usage:\n",
    "n = 5\n",
    "result = arrangeCoins(n)\n",
    "print(result)  # Output: 2 (Staircase: [1, 2], complete rows: 2)\n",
    "\n",
    "n = 8\n",
    "result = arrangeCoins(n)\n",
    "print(result)  # Output: 3 (Staircase: [1, 2, 3], complete rows: 3)\n"
   ]
  },
  {
   "cell_type": "code",
   "execution_count": 7,
   "id": "2d878ca9",
   "metadata": {},
   "outputs": [
    {
     "name": "stdout",
     "output_type": "stream",
     "text": [
      "[0, 1, 9, 16, 100]\n",
      "[4, 9, 9, 49, 121]\n"
     ]
    }
   ],
   "source": [
    "def sortedSquares(nums):\n",
    "    n = len(nums)\n",
    "    result = [0] * n\n",
    "    left, right = 0, n - 1\n",
    "    i = n - 1\n",
    "\n",
    "    while left <= right:\n",
    "        if abs(nums[left]) > abs(nums[right]):\n",
    "            result[i] = nums[left] ** 2\n",
    "            left += 1\n",
    "        else:\n",
    "            result[i] = nums[right] ** 2\n",
    "            right -= 1\n",
    "        i -= 1\n",
    "\n",
    "    return result\n",
    "\n",
    "# Example usage:\n",
    "nums = [-4, -1, 0, 3, 10]\n",
    "result = sortedSquares(nums)\n",
    "print(result)  # Output: [0, 1, 9, 16, 100] (Squares of each number sorted in non-decreasing order)\n",
    "\n",
    "nums = [-7, -3, 2, 3, 11]\n",
    "result = sortedSquares(nums)\n",
    "print(result)  # Output: [4, 9, 9, 49, 121] (Squares of each number sorted in non-decreasing order)\n"
   ]
  },
  {
   "cell_type": "code",
   "execution_count": 8,
   "id": "5fde0865",
   "metadata": {},
   "outputs": [
    {
     "name": "stdout",
     "output_type": "stream",
     "text": [
      "4\n",
      "4\n"
     ]
    }
   ],
   "source": [
    "def maxCount(m, n, ops):\n",
    "    min_row = m\n",
    "    min_col = n\n",
    "\n",
    "    for op in ops:\n",
    "        min_row = min(min_row, op[0])\n",
    "        min_col = min(min_col, op[1])\n",
    "\n",
    "    return min_row * min_col\n",
    "\n",
    "# Example usage:\n",
    "m = 3\n",
    "n = 3\n",
    "ops = [[2, 2], [3, 3]]\n",
    "result = maxCount(m, n, ops)\n",
    "print(result)  # Output: 4 (Number of maximum integers in the matrix after operations)\n",
    "\n",
    "m = 3\n",
    "n = 3\n",
    "ops = [[2, 3], [3, 2]]\n",
    "result = maxCount(m, n, ops)\n",
    "print(result)  # Output: 6 (Number of maximum integers in the matrix after operations)\n"
   ]
  },
  {
   "cell_type": "code",
   "execution_count": 9,
   "id": "f67df920",
   "metadata": {},
   "outputs": [
    {
     "name": "stdout",
     "output_type": "stream",
     "text": [
      "[1, 4, 2, 5, 3, 6]\n"
     ]
    }
   ],
   "source": [
    "def shuffle(nums, n):\n",
    "    result = []\n",
    "    for i in range(n):\n",
    "        result.append(nums[i])\n",
    "        result.append(nums[i + n])\n",
    "    return result\n",
    "\n",
    "# Example usage:\n",
    "nums = [1, 2, 3, 4, 5, 6]\n",
    "n = 3\n",
    "result = shuffle(nums, n)\n",
    "print(result)  # Output: [1, 4, 2, 5, 3, 6] (Rearranged array in the desired form)\n"
   ]
  },
  {
   "cell_type": "code",
   "execution_count": null,
   "id": "5153aa7f",
   "metadata": {},
   "outputs": [],
   "source": []
  }
 ],
 "metadata": {
  "kernelspec": {
   "display_name": "Python 3 (ipykernel)",
   "language": "python",
   "name": "python3"
  },
  "language_info": {
   "codemirror_mode": {
    "name": "ipython",
    "version": 3
   },
   "file_extension": ".py",
   "mimetype": "text/x-python",
   "name": "python",
   "nbconvert_exporter": "python",
   "pygments_lexer": "ipython3",
   "version": "3.9.12"
  }
 },
 "nbformat": 4,
 "nbformat_minor": 5
}
