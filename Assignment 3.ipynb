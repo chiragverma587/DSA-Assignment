{
 "cells": [
  {
   "cell_type": "code",
   "execution_count": null,
   "id": "9c08f7d7",
   "metadata": {},
   "outputs": [],
   "source": [
    "# Question 1\n",
    "# Given an integer array nums of length n and an integer target, find three integers\n",
    "# in nums such that the sum is closest to the target.\n",
    "# Return the sum of the three integers.\n",
    "\n",
    "# You may assume that each input would have exactly one solution.\n"
   ]
  },
  {
   "cell_type": "code",
   "execution_count": 1,
   "id": "e55d52cf",
   "metadata": {},
   "outputs": [
    {
     "name": "stdout",
     "output_type": "stream",
     "text": [
      "2\n",
      "0\n"
     ]
    }
   ],
   "source": [
    "def threeSumClosest(nums, target):\n",
    "    nums.sort()  # Sort the array in ascending order\n",
    "    closest_sum = float('inf')\n",
    "\n",
    "    for i in range(len(nums) - 2):\n",
    "        left = i + 1\n",
    "        right = len(nums) - 1\n",
    "\n",
    "        while left < right:\n",
    "            curr_sum = nums[i] + nums[left] + nums[right]\n",
    "\n",
    "            if abs(curr_sum - target) < abs(closest_sum - target):\n",
    "                closest_sum = curr_sum\n",
    "\n",
    "            if curr_sum < target:\n",
    "                left += 1\n",
    "            elif curr_sum > target:\n",
    "                right -= 1\n",
    "            else:\n",
    "                return target\n",
    "\n",
    "    return closest_sum\n",
    "\n",
    "# Example usage:\n",
    "nums = [-1, 2, 1, -4]\n",
    "target = 1\n",
    "result = threeSumClosest(nums, target)\n",
    "print(result)  # Output: 2 (Closest sum to target 1 is 2)\n",
    "\n",
    "nums = [0, 0, 0]\n",
    "target = 1\n",
    "result = threeSumClosest(nums, target)\n",
    "print(result)  # Output: 0 (Closest sum to target 1 is 0)\n"
   ]
  },
  {
   "cell_type": "code",
   "execution_count": null,
   "id": "0f6a8cb9",
   "metadata": {},
   "outputs": [],
   "source": [
    "# Question 2\n",
    "# Given an array nums of n integers, return an array of all the unique quadruplets\n",
    "# [nums[a], nums[b], nums[c], nums[d]] such that:\n",
    "#            ● 0 <= a, b, c, d < n\n",
    "#            ● a, b, c, and d are distinct.\n",
    "#            ● nums[a] + nums[b] + nums[c] + nums[d] == target\n",
    "\n",
    "# You may return the answer in any order."
   ]
  },
  {
   "cell_type": "code",
   "execution_count": 2,
   "id": "29ac02a5",
   "metadata": {},
   "outputs": [
    {
     "name": "stdout",
     "output_type": "stream",
     "text": [
      "[[-2, -1, 1, 2], [-2, 0, 0, 2], [-1, 0, 0, 1]]\n",
      "[[2, 2, 2, 2]]\n"
     ]
    }
   ],
   "source": [
    "def fourSum(nums, target):\n",
    "    nums.sort()  # Sort the array in ascending order\n",
    "    n = len(nums)\n",
    "    quadruplets = []\n",
    "\n",
    "    for i in range(n - 3):\n",
    "        if i > 0 and nums[i] == nums[i - 1]:\n",
    "            continue\n",
    "\n",
    "        for j in range(i + 1, n - 2):\n",
    "            if j > i + 1 and nums[j] == nums[j - 1]:\n",
    "                continue\n",
    "\n",
    "            left = j + 1\n",
    "            right = n - 1\n",
    "\n",
    "            while left < right:\n",
    "                curr_sum = nums[i] + nums[j] + nums[left] + nums[right]\n",
    "\n",
    "                if curr_sum == target:\n",
    "                    quadruplets.append([nums[i], nums[j], nums[left], nums[right]])\n",
    "                    left += 1\n",
    "                    right -= 1\n",
    "\n",
    "                    while left < right and nums[left] == nums[left - 1]:\n",
    "                        left += 1\n",
    "                    while left < right and nums[right] == nums[right + 1]:\n",
    "                        right -= 1\n",
    "                elif curr_sum < target:\n",
    "                    left += 1\n",
    "                else:\n",
    "                    right -= 1\n",
    "\n",
    "    return quadruplets\n",
    "\n",
    "# Example usage:\n",
    "nums = [1, 0, -1, 0, -2, 2]\n",
    "target = 0\n",
    "result = fourSum(nums, target)\n",
    "print(result)  # Output: [[-2, -1, 1, 2], [-2, 0, 0, 2], [-1, 0, 0, 1]] (Unique quadruplets that sum up to target)\n",
    "\n",
    "nums = [2, 2, 2, 2, 2]\n",
    "target = 8\n",
    "result = fourSum(nums, target)\n",
    "print(result)  # Output: [[2, 2, 2, 2]] (Unique quadruplet with all elements equal to 2)\n"
   ]
  },
  {
   "cell_type": "code",
   "execution_count": null,
   "id": "46614974",
   "metadata": {},
   "outputs": [],
   "source": [
    "# <aside>\n",
    "# 💡 **Question 3**\n",
    "# A permutation of an array of integers is an arrangement of its members into a\n",
    "# sequence or linear order.\n",
    "\n",
    "# For example, for arr = [1,2,3], the following are all the permutations of arr:\n",
    "# [1,2,3], [1,3,2], [2, 1, 3], [2, 3, 1], [3,1,2], [3,2,1].\n",
    "\n",
    "# The next permutation of an array of integers is the next lexicographically greater\n",
    "# permutation of its integer. More formally, if all the permutations of the array are\n",
    "# sorted in one container according to their lexicographical order, then the next\n",
    "# permutation of that array is the permutation that follows it in the sorted container.\n",
    "\n",
    "# If such an arrangement is not possible, the array must be rearranged as the\n",
    "# lowest possible order (i.e., sorted in ascending order).\n",
    "\n",
    "# ● For example, the next permutation of arr = [1,2,3] is [1,3,2].\n",
    "# ● Similarly, the next permutation of arr = [2,3,1] is [3,1,2].\n",
    "# ● While the next permutation of arr = [3,2,1] is [1,2,3] because [3,2,1] does not\n",
    "# have a lexicographical larger rearrangement.\n",
    "\n",
    "# Given an array of integers nums, find the next permutation of nums.\n",
    "# The replacement must be in place and use only constant extra memory.\n",
    "\n",
    "# </aside>"
   ]
  },
  {
   "cell_type": "code",
   "execution_count": 3,
   "id": "8179944b",
   "metadata": {},
   "outputs": [
    {
     "name": "stdout",
     "output_type": "stream",
     "text": [
      "[1, 3, 2]\n",
      "[1, 2, 3]\n",
      "[1, 5, 1]\n"
     ]
    }
   ],
   "source": [
    "def nextPermutation(nums):\n",
    "    # Find the first pair of adjacent elements where nums[i] < nums[i+1]\n",
    "    i = len(nums) - 2\n",
    "    while i >= 0 and nums[i] >= nums[i+1]:\n",
    "        i -= 1\n",
    "\n",
    "    if i >= 0:\n",
    "        # Find the next greater element than nums[i] from the elements to the right\n",
    "        j = len(nums) - 1\n",
    "        while j > i and nums[j] <= nums[i]:\n",
    "            j -= 1\n",
    "\n",
    "        # Swap nums[i] with nums[j]\n",
    "        nums[i], nums[j] = nums[j], nums[i]\n",
    "\n",
    "    # Reverse the elements to the right of nums[i]\n",
    "    left = i + 1\n",
    "    right = len(nums) - 1\n",
    "    while left < right:\n",
    "        nums[left], nums[right] = nums[right], nums[left]\n",
    "        left += 1\n",
    "        right -= 1\n",
    "\n",
    "# Example usage:\n",
    "nums = [1, 2, 3]\n",
    "nextPermutation(nums)\n",
    "print(nums)  # Output: [1, 3, 2]\n",
    "\n",
    "nums = [3, 2, 1]\n",
    "nextPermutation(nums)\n",
    "print(nums)  # Output: [1, 2, 3]\n",
    "\n",
    "nums = [1, 1, 5]\n",
    "nextPermutation(nums)\n",
    "print(nums)  # Output: [1, 5, 1]\n"
   ]
  },
  {
   "cell_type": "code",
   "execution_count": null,
   "id": "14ce4315",
   "metadata": {},
   "outputs": [],
   "source": [
    "# Question 4\n",
    "# Given a sorted array of distinct integers and a target value, return the index if the\n",
    "# target is found. If not, return the index where it would be if it were inserted in\n",
    "# order.\n",
    "\n",
    "# You must write an algorithm with O(log n) runtime complexity."
   ]
  },
  {
   "cell_type": "code",
   "execution_count": 4,
   "id": "c5868c1b",
   "metadata": {},
   "outputs": [
    {
     "name": "stdout",
     "output_type": "stream",
     "text": [
      "2\n",
      "1\n",
      "4\n"
     ]
    }
   ],
   "source": [
    "def searchInsert(nums, target):\n",
    "    left = 0\n",
    "    right = len(nums) - 1\n",
    "\n",
    "    while left <= right:\n",
    "        mid = left + (right - left) // 2\n",
    "\n",
    "        if nums[mid] == target:\n",
    "            return mid\n",
    "        elif nums[mid] < target:\n",
    "            left = mid + 1\n",
    "        else:\n",
    "            right = mid - 1\n",
    "\n",
    "    return left\n",
    "\n",
    "# Example usage:\n",
    "nums = [1, 3, 5, 6]\n",
    "target = 5\n",
    "result = searchInsert(nums, target)\n",
    "print(result)  # Output: 2 (Index of target 5)\n",
    "\n",
    "target = 2\n",
    "result = searchInsert(nums, target)\n",
    "print(result)  # Output: 1 (Index where target 2 would be inserted)\n",
    "\n",
    "target = 7\n",
    "result = searchInsert(nums, target)\n",
    "print(result)  # Output: 4 (Index where target 7 would be inserted)\n"
   ]
  },
  {
   "cell_type": "code",
   "execution_count": null,
   "id": "75e0b3c0",
   "metadata": {},
   "outputs": [],
   "source": [
    "# Question 5\n",
    "# You are given a large integer represented as an integer array digits, where each\n",
    "# digits[i] is the ith digit of the integer. The digits are ordered from most significant\n",
    "# to least significant in left-to-right order. The large integer does not contain any\n",
    "# leading 0's.\n",
    "\n",
    "# Increment the large integer by one and return the resulting array of digits."
   ]
  },
  {
   "cell_type": "code",
   "execution_count": 5,
   "id": "6ae619b1",
   "metadata": {},
   "outputs": [
    {
     "name": "stdout",
     "output_type": "stream",
     "text": [
      "[1, 2, 4]\n",
      "[4, 3, 2, 2]\n",
      "[1, 0, 0, 0]\n"
     ]
    }
   ],
   "source": [
    "def plusOne(digits):\n",
    "    n = len(digits)\n",
    "\n",
    "    # Start from the least significant digit\n",
    "    for i in range(n - 1, -1, -1):\n",
    "        # Increment the current digit by 1\n",
    "        digits[i] += 1\n",
    "\n",
    "        # Check if there is a carry\n",
    "        if digits[i] < 10:\n",
    "            return digits\n",
    "        else:\n",
    "            digits[i] = 0  # Set the current digit to 0 and propagate the carry\n",
    "\n",
    "    # If all digits are 9 and there is still a carry, add an additional digit\n",
    "    return [1] + digits\n",
    "\n",
    "# Example usage:\n",
    "digits = [1, 2, 3]\n",
    "result = plusOne(digits)\n",
    "print(result)  # Output: [1, 2, 4] (123 + 1 = 124)\n",
    "\n",
    "digits = [4, 3, 2, 1]\n",
    "result = plusOne(digits)\n",
    "print(result)  # Output: [4, 3, 2, 2] (4321 + 1 = 4322)\n",
    "\n",
    "digits = [9, 9, 9]\n",
    "result = plusOne(digits)\n",
    "print(result)  # Output: [1, 0, 0, 0] (999 + 1 = 1000)\n"
   ]
  },
  {
   "cell_type": "code",
   "execution_count": null,
   "id": "1a3bfc99",
   "metadata": {},
   "outputs": [],
   "source": [
    "# Given a non-empty array of integers nums, every element appears twice except\n",
    "# for one. Find that single one.\n",
    "\n",
    "# You must implement a solution with a linear runtime complexity and use only\n",
    "# constant extra space."
   ]
  },
  {
   "cell_type": "code",
   "execution_count": 6,
   "id": "4d7910ae",
   "metadata": {},
   "outputs": [
    {
     "name": "stdout",
     "output_type": "stream",
     "text": [
      "1\n",
      "4\n"
     ]
    }
   ],
   "source": [
    "def singleNumber(nums):\n",
    "    result = 0\n",
    "\n",
    "    for num in nums:\n",
    "        result ^= num\n",
    "\n",
    "    return result\n",
    "\n",
    "# Example usage:\n",
    "nums = [2, 2, 1]\n",
    "result = singleNumber(nums)\n",
    "print(result)  # Output: 1 (1 appears only once)\n",
    "\n",
    "nums = [4, 1, 2, 1, 2]\n",
    "result = singleNumber(nums)\n",
    "print(result)  # Output: 4 (4 appears only once)\n"
   ]
  },
  {
   "cell_type": "code",
   "execution_count": null,
   "id": "c8f02903",
   "metadata": {},
   "outputs": [],
   "source": [
    "# Question 8\n",
    "# Given an array of meeting time intervals where intervals[i] = [starti, endi],\n",
    "# determine if a person could attend all meetings."
   ]
  },
  {
   "cell_type": "code",
   "execution_count": 8,
   "id": "07d8ec0e",
   "metadata": {},
   "outputs": [
    {
     "name": "stdout",
     "output_type": "stream",
     "text": [
      "False\n",
      "True\n"
     ]
    }
   ],
   "source": [
    "def canAttendMeetings(intervals):\n",
    "    # Sort the intervals based on their start times\n",
    "    intervals.sort(key=lambda x: x[0])\n",
    "\n",
    "    # Check for overlaps between consecutive intervals\n",
    "    for i in range(1, len(intervals)):\n",
    "        if intervals[i][0] < intervals[i-1][1]:\n",
    "            return False\n",
    "\n",
    "    return True\n",
    "\n",
    "# Example usage:\n",
    "intervals = [[0, 30], [5, 10], [15, 20]]\n",
    "result = canAttendMeetings(intervals)\n",
    "print(result)  # Output: False (Overlapping meetings: [0, 30] and [5, 10])\n",
    "\n",
    "intervals = [[7, 10], [2, 4]]\n",
    "result = canAttendMeetings(intervals)\n",
    "print(result)  # Output: True (No overlapping meetings)\n"
   ]
  },
  {
   "cell_type": "code",
   "execution_count": null,
   "id": "c625c397",
   "metadata": {},
   "outputs": [],
   "source": []
  }
 ],
 "metadata": {
  "kernelspec": {
   "display_name": "Python 3 (ipykernel)",
   "language": "python",
   "name": "python3"
  },
  "language_info": {
   "codemirror_mode": {
    "name": "ipython",
    "version": 3
   },
   "file_extension": ".py",
   "mimetype": "text/x-python",
   "name": "python",
   "nbconvert_exporter": "python",
   "pygments_lexer": "ipython3",
   "version": "3.9.12"
  }
 },
 "nbformat": 4,
 "nbformat_minor": 5
}
